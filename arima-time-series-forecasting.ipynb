{
 "cells": [
  {
   "cell_type": "markdown",
   "metadata": {},
   "source": [
    "## Import libraries"
   ]
  },
  {
   "cell_type": "code",
   "execution_count": 14,
   "metadata": {},
   "outputs": [],
   "source": [
    "import numpy as np\n",
    "import pandas as pd\n",
    "import matplotlib.pyplot as plt\n",
    "%matplotlib inline\n",
    "from statsmodels.tools.eval_measures import rmse\n",
    "import seaborn as sns\n",
    "import statsmodels.api as sm\n",
    "import itertools\n",
    "from statsmodels.tsa.arima_model import ARIMA, ARMA\n",
    "import warnings\n",
    "warnings.filterwarnings(\"ignore\")"
   ]
  },
  {
   "cell_type": "markdown",
   "metadata": {},
   "source": [
    "## Load data"
   ]
  },
  {
   "cell_type": "code",
   "execution_count": 7,
   "metadata": {},
   "outputs": [],
   "source": [
    "df = pd.read_excel('data/Week4_DemoData_TimeSeriesAnalysis.xlsx')"
   ]
  },
  {
   "cell_type": "code",
   "execution_count": 8,
   "metadata": {},
   "outputs": [
    {
     "name": "stdout",
     "output_type": "stream",
     "text": [
      "<class 'pandas.core.frame.DataFrame'>\n",
      "RangeIndex: 81 entries, 0 to 80\n",
      "Data columns (total 2 columns):\n",
      " #   Column               Non-Null Count  Dtype         \n",
      "---  ------               --------------  -----         \n",
      " 0   Quarter              81 non-null     datetime64[ns]\n",
      " 1   Expense Liquidation  81 non-null     float64       \n",
      "dtypes: datetime64[ns](1), float64(1)\n",
      "memory usage: 1.4 KB\n"
     ]
    }
   ],
   "source": [
    "df.info()"
   ]
  },
  {
   "cell_type": "code",
   "execution_count": 9,
   "metadata": {},
   "outputs": [],
   "source": [
    "# edit column name\n",
    "df.columns = ['Date', 'ExpenseLiquidation']\n",
    "# set index column to date\n",
    "df.set_index('Date', inplace=True)"
   ]
  },
  {
   "cell_type": "markdown",
   "metadata": {},
   "source": [
    "#### Simple plot of the data"
   ]
  },
  {
   "cell_type": "code",
   "execution_count": 11,
   "metadata": {},
   "outputs": [
    {
     "data": {
      "text/plain": [
       "<AxesSubplot:xlabel='Date'>"
      ]
     },
     "execution_count": 11,
     "metadata": {},
     "output_type": "execute_result"
    },
    {
     "data": {
      "image/png": "[encoded data removed]",
      "text/plain": [
       "<Figure size 432x288 with 1 Axes>"
      ]
     },
     "metadata": {
      "needs_background": "light"
     },
     "output_type": "display_data"
    }
   ],
   "source": [
    "df.plot() # simple plot of the data"
   ]
  },
  {
   "cell_type": "markdown",
   "metadata": {},
   "source": [
    "## Forecasting"
   ]
  },
  {
   "cell_type": "code",
   "execution_count": 15,
   "metadata": {},
   "outputs": [],
   "source": [
    "# Define the p, d and q parameters to take any value between 0 and 3\n",
    "p = d = q = range(0, 3)\n",
    "# Generate all different combinations of p, q and q\n",
    "pdq = list(itertools.product(p, d, q))"
   ]
  },
  {
   "cell_type": "markdown",
   "metadata": {},
   "source": [
    "#### In the next few lines of code, the SARIMAX() function is applied to all combinations of parameters and the model with the lowest AIC is printed."
   ]
  },
  {
   "cell_type": "code",
   "execution_count": 18,
   "metadata": {},
   "outputs": [
    {
     "name": "stdout",
     "output_type": "stream",
     "text": [
      "ARIMA(0, 0, 0) - AIC:2022.5892157513924\n",
      "ARIMA(0, 0, 1) - AIC:1982.6775673598684\n",
      "ARIMA(0, 0, 2) - AIC:1965.6264463738762\n",
      "ARIMA(0, 1, 0) - AIC:1805.0495298740711\n",
      "ARIMA(0, 1, 1) - AIC:1784.3234441020045\n",
      "ARIMA(0, 1, 2) - AIC:1790.9339141768044\n",
      "ARIMA(0, 2, 0) - AIC:1865.1303957078444\n",
      "ARIMA(0, 2, 1) - AIC:1788.780565977054\n",
      "ARIMA(0, 2, 2) - AIC:1766.8276513427622\n",
      "ARIMA(1, 0, 0) - AIC:1831.3563864794005\n",
      "ARIMA(1, 0, 1) - AIC:1812.053288160238\n",
      "ARIMA(1, 0, 2) - AIC:1858.2413354183852\n",
      "ARIMA(1, 1, 0) - AIC:1790.8778825309942\n",
      "ARIMA(1, 1, 1) - AIC:1786.2839810947319\n",
      "ARIMA(1, 1, 2) - AIC:1779.2693286213341\n",
      "ARIMA(1, 2, 0) - AIC:1818.9233113093014\n",
      "ARIMA(1, 2, 1) - AIC:1775.0740215055193\n",
      "ARIMA(1, 2, 2) - AIC:1761.9150493166474\n",
      "ARIMA(2, 0, 0) - AIC:1817.7349549889532\n",
      "ARIMA(2, 0, 1) - AIC:1806.7093378084714\n",
      "ARIMA(2, 0, 2) - AIC:1806.3407992428906\n",
      "ARIMA(2, 1, 0) - AIC:1791.4909843089247\n",
      "ARIMA(2, 1, 1) - AIC:1793.1079397149742\n",
      "ARIMA(2, 1, 2) - AIC:1777.9593040878137\n",
      "ARIMA(2, 2, 0) - AIC:1818.6501339562033\n",
      "ARIMA(2, 2, 1) - AIC:1775.4516579701658\n",
      "ARIMA(2, 2, 2) - AIC:1780.101854335548\n",
      "The optimal model is: ARIMA(1, 2, 2) -AIC1761.9150493166474\n"
     ]
    }
   ],
   "source": [
    "warnings.filterwarnings(\"ignore\")\n",
    "aic= []\n",
    "parameters = []\n",
    "for param in pdq:\n",
    "  #for param in pdq:\n",
    "    try:\n",
    "        mod = sm.tsa.statespace.SARIMAX(df, order=param, enforce_stationarity=True, enforce_invertibility=True)\n",
    "        results = mod.fit()\n",
    "        # save results in lists\n",
    "        aic.append(results.aic)\n",
    "        parameters.append(param)\n",
    "        #seasonal_param.append(param_seasonal)\n",
    "        print('ARIMA{} - AIC:{}'.format(param, results.aic))\n",
    "    except:\n",
    "        continue\n",
    "# find lowest aic          \n",
    "index_min = min(range(len(aic)), key=aic.__getitem__)           \n",
    "\n",
    "print('The optimal model is: ARIMA{} -AIC{}'.format(parameters[index_min], aic[index_min]))"
   ]
  },
  {
   "cell_type": "markdown",
   "metadata": {},
   "source": [
    "#### The next step is to fit optimal model to our time series."
   ]
  },
  {
   "cell_type": "code",
   "execution_count": null,
   "metadata": {},
   "outputs": [],
   "source": [
    "model = ARIMA(df, order=parameters[index_min])\n",
    "model_fit = model.fit(disp=0)\n",
    "print(model_fit.summary())"
   ]
  },
  {
   "cell_type": "markdown",
   "metadata": {},
   "source": [
    "#### Finally, we can forecast the next 12 months and visualise the data points thereafter"
   ]
  },
  {
   "cell_type": "code",
   "execution_count": null,
   "metadata": {},
   "outputs": [],
   "source": [
    "model_fit.plot_predict(start=2, end=len(df)+12)\n",
    "plt.show()"
   ]
  }
 ],
 "metadata": {
  "kernelspec": {
   "display_name": "Python 3",
   "language": "python",
   "name": "python3"
  },
  "language_info": {
   "codemirror_mode": {
    "name": "ipython",
    "version": 3
   },
   "file_extension": ".py",
   "mimetype": "text/x-python",
   "name": "python",
   "nbconvert_exporter": "python",
   "pygments_lexer": "ipython3",
   "version": "3.8.5"
  }
 },
 "nbformat": 4,
 "nbformat_minor": 4
}
