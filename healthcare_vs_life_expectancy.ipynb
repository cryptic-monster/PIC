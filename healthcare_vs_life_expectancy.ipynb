{
 "cells": [
  {
   "cell_type": "markdown",
   "metadata": {},
   "source": [
    "# Life expectancy in Southeast Asian countries\n",
    "\n",
    "##### The data used in this notebook was obtained from https://ourworldindata.org/grapher/life-expectancy-vs-health-expenditure. The goal is plot the life expentancy over the year for different countries in SEA. The health expenditure is actually missing from the data."
   ]
  },
  {
   "cell_type": "markdown",
   "metadata": {},
   "source": [
    "## Import data"
   ]
  },
  {
   "cell_type": "code",
   "execution_count": 10,
   "metadata": {},
   "outputs": [],
   "source": [
    "import pandas as pd\n",
    "import numpy as np\n",
    "import matplotlib.pyplot as plt\n",
    "from matplotlib import cm\n",
    "import seaborn as sns\n",
    "\n",
    "%matplotlib inline"
   ]
  },
  {
   "cell_type": "markdown",
   "metadata": {},
   "source": [
    "#### The data came from https://ourworldindata.org/grapher/life-expectancy-vs-health-expenditure"
   ]
  },
  {
   "cell_type": "code",
   "execution_count": 11,
   "metadata": {},
   "outputs": [],
   "source": [
    "df = pd.read_csv('data/life-expectancy-vs-health-expenditure.csv')"
   ]
  },
  {
   "cell_type": "markdown",
   "metadata": {},
   "source": [
    "## Data Cleaning and Augmentation\n",
    "#### Rename columns to make it easier to call later on"
   ]
  },
  {
   "cell_type": "code",
   "execution_count": 12,
   "metadata": {},
   "outputs": [],
   "source": [
    "df = df[['Entity', 'Year', 'Health Expenditure and Financing (per capita) (OECDstat (2017))',\n",
    "         'Life expectancy at birth, total (years)']]\n",
    "df.columns = ['Country', 'Year', 'HealthExpenditure', 'LifeExpectancy'] # Select the important columns\n"
   ]
  },
  {
   "cell_type": "code",
   "execution_count": 13,
   "metadata": {},
   "outputs": [],
   "source": [
    "df.Country.replace('Timor','East Timor', inplace=True)"
   ]
  },
  {
   "cell_type": "markdown",
   "metadata": {},
   "source": [
    "#### Select countries that are in Southeast Asia"
   ]
  },
  {
   "cell_type": "code",
   "execution_count": 14,
   "metadata": {},
   "outputs": [],
   "source": [
    "# southeast asian countries\n",
    "sea = ['Brunei', 'Cambodia', 'East Timor', 'Indonesia', 'Laos',\n",
    "        'Malaysia', 'Myanmar', 'Philippines', 'Singapore',\n",
    "        'Thailand', 'Vietnam'] \n",
    "\n",
    "df = df[df.Country.apply(lambda x: x in sea)].reset_index()\n",
    "df = df[['Country', 'Year', 'LifeExpectancy']]"
   ]
  },
  {
   "cell_type": "code",
   "execution_count": 15,
   "metadata": {},
   "outputs": [],
   "source": [
    "new_df = pd.read_csv('data\\Subnational-Population_csv/Subnational-PopulationData.csv')"
   ]
  },
  {
   "cell_type": "code",
   "execution_count": 16,
   "metadata": {},
   "outputs": [],
   "source": [
    "new_df = new_df.melt(id_vars=['Country Name', 'Country Code', 'Indicator Name', 'Indicator Code'],\n",
    "           var_name='Year',\n",
    "           value_name='Population')"
   ]
  },
  {
   "cell_type": "code",
   "execution_count": 17,
   "metadata": {},
   "outputs": [
    {
     "data": {
      "text/plain": [
       "array(['SP.POP.TOTL.ZS', 'SP.POP.TOTL'], dtype=object)"
      ]
     },
     "execution_count": 17,
     "metadata": {},
     "output_type": "execute_result"
    }
   ],
   "source": [
    "new_df['Indicator Code'].unique()"
   ]
  },
  {
   "cell_type": "code",
   "execution_count": 18,
   "metadata": {},
   "outputs": [
    {
     "data": {
      "text/html": [
       "<div>\n",
       "<style scoped>\n",
       "    .dataframe tbody tr th:only-of-type {\n",
       "        vertical-align: middle;\n",
       "    }\n",
       "\n",
       "    .dataframe tbody tr th {\n",
       "        vertical-align: top;\n",
       "    }\n",
       "\n",
       "    .dataframe thead th {\n",
       "        text-align: right;\n",
       "    }\n",
       "</style>\n",
       "<table border=\"1\" class=\"dataframe\">\n",
       "  <thead>\n",
       "    <tr style=\"text-align: right;\">\n",
       "      <th>Indicator Code</th>\n",
       "      <th>Country Name</th>\n",
       "      <th>Country Code</th>\n",
       "      <th>Indicator Name</th>\n",
       "      <th>Year</th>\n",
       "      <th>SP.POP.TOTL</th>\n",
       "      <th>SP.POP.TOTL.ZS</th>\n",
       "    </tr>\n",
       "  </thead>\n",
       "  <tbody>\n",
       "    <tr>\n",
       "      <th>0</th>\n",
       "      <td>Afghanistan</td>\n",
       "      <td>AFG</td>\n",
       "      <td>Population (% of total)</td>\n",
       "      <td>2000</td>\n",
       "      <td>NaN</td>\n",
       "      <td>100.0</td>\n",
       "    </tr>\n",
       "    <tr>\n",
       "      <th>1</th>\n",
       "      <td>Afghanistan</td>\n",
       "      <td>AFG</td>\n",
       "      <td>Population (% of total)</td>\n",
       "      <td>2001</td>\n",
       "      <td>NaN</td>\n",
       "      <td>100.0</td>\n",
       "    </tr>\n",
       "    <tr>\n",
       "      <th>2</th>\n",
       "      <td>Afghanistan</td>\n",
       "      <td>AFG</td>\n",
       "      <td>Population (% of total)</td>\n",
       "      <td>2002</td>\n",
       "      <td>NaN</td>\n",
       "      <td>100.0</td>\n",
       "    </tr>\n",
       "    <tr>\n",
       "      <th>3</th>\n",
       "      <td>Afghanistan</td>\n",
       "      <td>AFG</td>\n",
       "      <td>Population (% of total)</td>\n",
       "      <td>2003</td>\n",
       "      <td>NaN</td>\n",
       "      <td>100.0</td>\n",
       "    </tr>\n",
       "    <tr>\n",
       "      <th>4</th>\n",
       "      <td>Afghanistan</td>\n",
       "      <td>AFG</td>\n",
       "      <td>Population (% of total)</td>\n",
       "      <td>2004</td>\n",
       "      <td>NaN</td>\n",
       "      <td>100.0</td>\n",
       "    </tr>\n",
       "  </tbody>\n",
       "</table>\n",
       "</div>"
      ],
      "text/plain": [
       "Indicator Code Country Name Country Code           Indicator Name  Year  \\\n",
       "0               Afghanistan          AFG  Population (% of total)  2000   \n",
       "1               Afghanistan          AFG  Population (% of total)  2001   \n",
       "2               Afghanistan          AFG  Population (% of total)  2002   \n",
       "3               Afghanistan          AFG  Population (% of total)  2003   \n",
       "4               Afghanistan          AFG  Population (% of total)  2004   \n",
       "\n",
       "Indicator Code  SP.POP.TOTL  SP.POP.TOTL.ZS  \n",
       "0                       NaN           100.0  \n",
       "1                       NaN           100.0  \n",
       "2                       NaN           100.0  \n",
       "3                       NaN           100.0  \n",
       "4                       NaN           100.0  "
      ]
     },
     "execution_count": 18,
     "metadata": {},
     "output_type": "execute_result"
    }
   ],
   "source": [
    "new_df = new_df.pivot_table(\n",
    "    index=['Country Name', 'Country Code', 'Indicator Name', 'Year'],\n",
    "    columns='Indicator Code',\n",
    "    values='Population'\n",
    ").reset_index()\n",
    "\n",
    "new_df.head()"
   ]
  },
  {
   "cell_type": "code",
   "execution_count": null,
   "metadata": {},
   "outputs": [],
   "source": []
  },
  {
   "cell_type": "markdown",
   "metadata": {},
   "source": [
    "## Visualization"
   ]
  },
  {
   "cell_type": "markdown",
   "metadata": {},
   "source": [
    "#### Line plot of life expectancy over 1960-2020 for different countries in SEA"
   ]
  },
  {
   "cell_type": "code",
   "execution_count": 19,
   "metadata": {},
   "outputs": [
    {
     "data": {
      "image/png": "[encoded data removed]",
      "text/plain": [
       "<Figure size 432x288 with 1 Axes>"
      ]
     },
     "metadata": {
      "needs_background": "light"
     },
     "output_type": "display_data"
    }
   ],
   "source": [
    "for country in sea:\n",
    "    data = df.loc[df.Country == country]\n",
    "    plt.plot(data.Year, data.LifeExpectancy, linewidth=0.8, label=country)\n",
    "\n",
    "ax = plt.gca()\n",
    "xticks = np.arange(1960, 2020, step=10)\n",
    "\n",
    "# labels\n",
    "ax.set_xlabel('Year')\n",
    "ax.set_ylabel('Age')\n",
    "\n",
    "# ticks\n",
    "ax.set_xticks(xticks)\n",
    "\n",
    "# legend\n",
    "ax.legend(fontsize='x-small', loc=4, frameon=False)\n",
    "\n",
    "# axis limits\n",
    "ax.set_xlim(1960, 2019)\n",
    "\n",
    "# hide the top and right spines\n",
    "ax.spines['right'].set_visible(False)\n",
    "ax.spines['top'].set_visible(False)\n",
    "\n",
    "# show grid\n",
    "# ax.grid(linewidth=0.3)\n",
    "\n",
    "# set title\n",
    "ax.set_title('Life expectancy from 1960-2019 in Southeast Asia')\n",
    "\n",
    "# plt.savefig('life_expectancy.png', dpi=200)\n",
    "plt.show()\n"
   ]
  },
  {
   "cell_type": "markdown",
   "metadata": {},
   "source": [
    "#### Bar plot of mean life expectancy"
   ]
  },
  {
   "cell_type": "code",
   "execution_count": 20,
   "metadata": {},
   "outputs": [
    {
     "data": {
      "image/png": "[encoded data removed]",
      "text/plain": [
       "<Figure size 432x288 with 1 Axes>"
      ]
     },
     "metadata": {
      "needs_background": "light"
     },
     "output_type": "display_data"
    }
   ],
   "source": [
    "from matplotlib import rcParams\n",
    "rcParams['font.family'] = 'sans-serif'\n",
    "rcParams['font.sans-serif'] = ['Tahoma']\n",
    "\n",
    "life_expectancy = df.groupby('Country').mean()['LifeExpectancy'].sort_values(ascending=True)\n",
    "\n",
    "fig, ax2 = plt.subplots(figsize=(6,4))\n",
    "\n",
    "# horizontal barplot\n",
    "barplot = sns.barplot(x=life_expectancy.index, y=life_expectancy, palette='Greys', edgecolor='None')\n",
    "\n",
    "# remove ticks\n",
    "ax2.tick_params(axis=\"x\", which = \"both\", top=False, bottom=False, labelrotation=-45, labelsize=7)\n",
    "ax2.tick_params(axis=\"y\", which = \"both\", left=False, right=False, labelsize=7)\n",
    "# ax2.set_xticklabels(rotation='vertical')\n",
    "\n",
    "# hide all spines\n",
    "ax2.spines['top'].set_visible(False)\n",
    "ax2.spines['bottom'].set_visible(False)\n",
    "ax2.spines['right'].set_visible(False)\n",
    "ax2.spines['left'].set_visible(False)\n",
    "\n",
    "# limit y axis\n",
    "ax2.set_ylim(top=life_expectancy.max())\n",
    "\n",
    "# set label\n",
    "ax2.set_ylabel('Age')\n",
    "ax2.set_xlabel(None)\n",
    "\n",
    "# set title\n",
    "ax2.set_title('Mean life expectancy (1960-2019) in Southeast Asia')\n",
    "\n",
    "plt.savefig('lifeexpectancy_bar.png', dpi=200)\n",
    "plt.show()"
   ]
  },
  {
   "cell_type": "code",
   "execution_count": null,
   "metadata": {},
   "outputs": [],
   "source": []
  },
  {
   "cell_type": "code",
   "execution_count": null,
   "metadata": {},
   "outputs": [],
   "source": []
  },
  {
   "cell_type": "code",
   "execution_count": null,
   "metadata": {},
   "outputs": [],
   "source": []
  },
  {
   "cell_type": "code",
   "execution_count": null,
   "metadata": {},
   "outputs": [],
   "source": []
  },
  {
   "cell_type": "code",
   "execution_count": null,
   "metadata": {},
   "outputs": [],
   "source": [
    "def get_multi_line_title(title:str, subtitle:str):\n",
    "    return f\"{title}<br><sub>{subtitle}</sub>\""
   ]
  },
  {
   "cell_type": "code",
   "execution_count": null,
   "metadata": {},
   "outputs": [],
   "source": [
    "get_multi_line_title(\"People Vaccinated\", \"Individuals who received the first dose of the vaccine\")"
   ]
  },
  {
   "cell_type": "markdown",
   "metadata": {},
   "source": [
    "#### Define a function that will automatically plots that data\n"
   ]
  },
  {
   "cell_type": "code",
   "execution_count": null,
   "metadata": {},
   "outputs": [],
   "source": [
    "def visualize(xcolumn, ycolumn):\n",
    "\n",
    "    for country in sea:\n",
    "        data = df.loc[df.Country == country]\n",
    "\n",
    "        plt.plot(data[xcolumn], data[ycolumn], label=country)\n",
    "       \n",
    "    xticks = np.arange(int(df.Year.min()), int(df.Year.max()), 10)\n",
    "    \n",
    "    # labels\n",
    "    plt.xlabel('Year')\n",
    "    plt.ylabel('Age')\n",
    "    \n",
    "    # ticks\n",
    "    plt.xticks(xticks, rotation='vertical')\n",
    "    \n",
    "    # legend\n",
    "    plt.legend(4)    \n",
    "    \n",
    "    plt.show()"
   ]
  },
  {
   "cell_type": "code",
   "execution_count": null,
   "metadata": {},
   "outputs": [],
   "source": [
    "visualize('Year', 'LifeExpectancy')"
   ]
  },
  {
   "cell_type": "code",
   "execution_count": null,
   "metadata": {},
   "outputs": [],
   "source": [
    "def visualize_column(data, y_label, color):\n",
    "    \n",
    "    fig, ax1 = plt.subplots()\n",
    "\n",
    "    ax1.plot(df.Year, data, color=color) \n",
    "    \n",
    "    # set axis labels for ax1\n",
    "    ax1.set_xlabel('Year')\n",
    "    ax1.set_ylabel(y_label)\n",
    "    # ax1.set_xticklabels(data.index) # set ticks \n",
    "    plt.show()\n"
   ]
  },
  {
   "cell_type": "code",
   "execution_count": null,
   "metadata": {},
   "outputs": [],
   "source": [
    "visualize_column(data=df.LifeExpectancy, y_label='Life Expectancy', color='blue')"
   ]
  },
  {
   "cell_type": "code",
   "execution_count": null,
   "metadata": {},
   "outputs": [],
   "source": [
    "import matplotlib.pyplot as plt\n",
    "%matplotlib inline\n",
    "\n",
    "fig, ax1 = plt.subplots()\n",
    "\n",
    "ax1.plot(df['Year'], df['HealthExpenditure'], color='blue') # %gpd spending per capita\n",
    "\n",
    "# set axis labels for ax1\n",
    "ax1.set_xlabel('Year')\n",
    "ax1.set_ylabel('Healthcare expenditure ($)', color='blue')\n",
    "# ax1.set_xticklabels(data.index) # set ticks \n",
    "\n",
    "ax2 = plt.twinx() # ax2 share same x-axis with ax1\n",
    "\n",
    "ax2.plot(df['Year'], df['LifeExpectancy'], color='red') # life expectancy\n",
    "ax2.set_ylabel('Life expectancy', color='red') # set axis label for ax2\n",
    "\n",
    "\n",
    "plt.show()\n"
   ]
  }
 ],
 "metadata": {
  "kernelspec": {
   "display_name": "Python 3",
   "language": "python",
   "name": "python3"
  },
  "language_info": {
   "codemirror_mode": {
    "name": "ipython",
    "version": 3
   },
   "file_extension": ".py",
   "mimetype": "text/x-python",
   "name": "python",
   "nbconvert_exporter": "python",
   "pygments_lexer": "ipython3",
   "version": "3.8.5"
  }
 },
 "nbformat": 4,
 "nbformat_minor": 4
}
