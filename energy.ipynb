{
 "cells": [
  {
   "cell_type": "markdown",
   "metadata": {},
   "source": [
    "### Imports"
   ]
  },
  {
   "cell_type": "code",
   "execution_count": 2,
   "metadata": {},
   "outputs": [],
   "source": [
    "import pandas as pd\n",
    "import numpy as np\n",
    "import matplotlib.pyplot as plt\n",
    "import seaborn as sns\n",
    "%matplotlib inline"
   ]
  },
  {
   "cell_type": "markdown",
   "metadata": {},
   "source": [
    "## Data cleaning and aggregation\n",
    "\n",
    "##### The sources of data are as follows:\n",
    "- https://ourworldindata.org/energy-production-consumption\n",
    "- https://ourworldindata.org/co2/country/philippines?country=~PHL"
   ]
  },
  {
   "cell_type": "code",
   "execution_count": 3,
   "metadata": {},
   "outputs": [],
   "source": [
    "elec_df= pd.read_csv('data/electricity-generation.csv', parse_dates=['Year'])\n",
    "co2_df = pd.read_csv('data/owid-co2-data.csv', parse_dates=['year'])"
   ]
  },
  {
   "cell_type": "markdown",
   "metadata": {},
   "source": [
    "### Carbon dioxide emission per capita"
   ]
  },
  {
   "cell_type": "code",
   "execution_count": 4,
   "metadata": {},
   "outputs": [],
   "source": [
    "co2_df = co2_df.loc[co2_df.country == 'Philippines'].reset_index(drop=True)"
   ]
  },
  {
   "cell_type": "code",
   "execution_count": 5,
   "metadata": {},
   "outputs": [],
   "source": [
    "co2_df = co2_df[['year', 'co2_per_capita']]\n",
    "co2_df['year'] = co2_df['year'].dt.year"
   ]
  },
  {
   "cell_type": "markdown",
   "metadata": {},
   "source": [
    "### Electricity generation per capita"
   ]
  },
  {
   "cell_type": "code",
   "execution_count": 6,
   "metadata": {},
   "outputs": [],
   "source": [
    "elec_df = elec_df.rename(columns={'Entity':'country', 'Code':'code', 'Year':'year',\n",
    "                            'Electricity Generation (TWh)':'electricity_generation'})"
   ]
  },
  {
   "cell_type": "markdown",
   "metadata": {},
   "source": [
    "##### Electricity production data from the Philippines"
   ]
  },
  {
   "cell_type": "code",
   "execution_count": 7,
   "metadata": {},
   "outputs": [],
   "source": [
    "elec_df = elec_df.loc[elec_df['country'] == 'Philippines'].reset_index(drop=True)\\\n",
    "\n",
    "# remove non-relevant columns\n",
    "elec_df.drop(['country', 'code'], inplace=True, axis='columns')\n",
    "\n",
    "# get the year component of the date\n",
    "elec_df['year'] = elec_df['year'].dt.year "
   ]
  },
  {
   "cell_type": "markdown",
   "metadata": {},
   "source": [
    "### Merge the dataframes"
   ]
  },
  {
   "cell_type": "code",
   "execution_count": 8,
   "metadata": {},
   "outputs": [],
   "source": [
    "data = pd.merge(left=co2_df, right=elec_df, how='right', on='year').set_index('year')"
   ]
  },
  {
   "cell_type": "code",
   "execution_count": 9,
   "metadata": {},
   "outputs": [
    {
     "data": {
      "text/html": [
       "<div>\n",
       "<style scoped>\n",
       "    .dataframe tbody tr th:only-of-type {\n",
       "        vertical-align: middle;\n",
       "    }\n",
       "\n",
       "    .dataframe tbody tr th {\n",
       "        vertical-align: top;\n",
       "    }\n",
       "\n",
       "    .dataframe thead th {\n",
       "        text-align: right;\n",
       "    }\n",
       "</style>\n",
       "<table border=\"1\" class=\"dataframe\">\n",
       "  <thead>\n",
       "    <tr style=\"text-align: right;\">\n",
       "      <th></th>\n",
       "      <th>co2_per_capita</th>\n",
       "      <th>electricity_generation</th>\n",
       "    </tr>\n",
       "    <tr>\n",
       "      <th>year</th>\n",
       "      <th></th>\n",
       "      <th></th>\n",
       "    </tr>\n",
       "  </thead>\n",
       "  <tbody>\n",
       "    <tr>\n",
       "      <th>1985</th>\n",
       "      <td>0.514</td>\n",
       "      <td>22.766</td>\n",
       "    </tr>\n",
       "    <tr>\n",
       "      <th>1986</th>\n",
       "      <td>0.521</td>\n",
       "      <td>20.974</td>\n",
       "    </tr>\n",
       "    <tr>\n",
       "      <th>1987</th>\n",
       "      <td>0.567</td>\n",
       "      <td>22.642</td>\n",
       "    </tr>\n",
       "    <tr>\n",
       "      <th>1988</th>\n",
       "      <td>0.638</td>\n",
       "      <td>24.539</td>\n",
       "    </tr>\n",
       "    <tr>\n",
       "      <th>1989</th>\n",
       "      <td>0.645</td>\n",
       "      <td>25.573</td>\n",
       "    </tr>\n",
       "  </tbody>\n",
       "</table>\n",
       "</div>"
      ],
      "text/plain": [
       "      co2_per_capita  electricity_generation\n",
       "year                                        \n",
       "1985           0.514                  22.766\n",
       "1986           0.521                  20.974\n",
       "1987           0.567                  22.642\n",
       "1988           0.638                  24.539\n",
       "1989           0.645                  25.573"
      ]
     },
     "execution_count": 9,
     "metadata": {},
     "output_type": "execute_result"
    }
   ],
   "source": [
    "data.head()"
   ]
  },
  {
   "cell_type": "markdown",
   "metadata": {},
   "source": [
    "## Visualization"
   ]
  },
  {
   "cell_type": "code",
   "execution_count": 17,
   "metadata": {},
   "outputs": [
    {
     "data": {
      "image/png": "[encoded data removed]",
      "text/plain": [
       "<Figure size 720x432 with 2 Axes>"
      ]
     },
     "metadata": {
      "needs_background": "light"
     },
     "output_type": "display_data"
    }
   ],
   "source": [
    "fig, ax1 = plt.subplots(figsize=(10,6))\n",
    "ax1.plot(data.index, data['co2_per_capita'], label='CO2 emission per capita', color='red', marker='o', markersize=4)\n",
    "\n",
    "# set axis label\n",
    "ax1.set_xlabel('Year', fontsize=14)\n",
    "ax1.set_ylabel('CO2 emission per capita (Tons)', color='red', fontsize=14)\n",
    "\n",
    "# set title\n",
    "ax1.set_title('Electricity production and the CO2 emission in the Philippines from 1985-2018', fontsize=16)\n",
    "\n",
    "# set axis limit\n",
    "ax1.set_xlim(1985, 2018)\n",
    "\n",
    "ax2 = plt.twinx(ax1)\n",
    "ax2.plot(data.index, data['electricity_generation'], label='Electricity generation', color='blue', marker='o', markersize=4)\n",
    "\n",
    "# set axis label\n",
    "ax2.set_ylabel('Electricity production per capita (kWh)', color='blue', fontsize=14)\n",
    "\n",
    "\n",
    "plt.show()"
   ]
  },
  {
   "cell_type": "markdown",
   "metadata": {},
   "source": [
    "### Set a barplot that will instantly plot the data"
   ]
  },
  {
   "cell_type": "code",
   "execution_count": 48,
   "metadata": {},
   "outputs": [],
   "source": [
    "def barplot_data(x, y, data=None):\n",
    "    barplot = sns.barplot(x=x, y=y, data=data,\n",
    "                      order=np.arange(1985, 2018, step=5),\n",
    "                      palette='Greys')\n",
    "    ax = plt.gca()\n",
    "    \n",
    "    ax.tick_params(axis=\"x\", which = \"both\", top=False, bottom=False, labelsize='medium', rotation=45)\n",
    "    ax.tick_params(axis=\"y\", which = \"both\", right=False, left=False, labelsize='medium', labelleft=None)\n",
    "\n",
    "    # annotate every bar \n",
    "    for patch in barplot.patches:\n",
    "                 barplot.annotate(\"%.2f\" % patch.get_height(), (patch.get_x() + patch.get_width() / 2, patch.get_height()),\n",
    "                     ha='center', va='center', fontsize=9, color='blue', xytext=(0, 20),\n",
    "                     textcoords='offset points', rotation=0)\n",
    "\n",
    "    # remove all the spines\n",
    "    for spine in ['left', 'right', 'bottom', 'top']:\n",
    "        ax.spines[spine].set_visible(False)\n",
    "        \n",
    "    plt.show()"
   ]
  },
  {
   "cell_type": "code",
   "execution_count": 49,
   "metadata": {},
   "outputs": [
    {
     "data": {
      "image/png": "[encoded data removed]",
      "text/plain": [
       "<Figure size 432x288 with 1 Axes>"
      ]
     },
     "metadata": {
      "needs_background": "light"
     },
     "output_type": "display_data"
    }
   ],
   "source": [
    "barplot_data(x=data.index, y='co2_per_capita', data=data)"
   ]
  },
  {
   "cell_type": "code",
   "execution_count": null,
   "metadata": {},
   "outputs": [],
   "source": []
  },
  {
   "cell_type": "code",
   "execution_count": null,
   "metadata": {},
   "outputs": [],
   "source": []
  },
  {
   "cell_type": "code",
   "execution_count": null,
   "metadata": {},
   "outputs": [],
   "source": []
  }
 ],
 "metadata": {
  "kernelspec": {
   "display_name": "Python 3",
   "language": "python",
   "name": "python3"
  },
  "language_info": {
   "codemirror_mode": {
    "name": "ipython",
    "version": 3
   },
   "file_extension": ".py",
   "mimetype": "text/x-python",
   "name": "python",
   "nbconvert_exporter": "python",
   "pygments_lexer": "ipython3",
   "version": "3.8.5"
  }
 },
 "nbformat": 4,
 "nbformat_minor": 4
}
